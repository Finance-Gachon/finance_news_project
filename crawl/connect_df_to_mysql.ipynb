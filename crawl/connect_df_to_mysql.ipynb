{
 "cells": [
  {
   "cell_type": "code",
   "execution_count": 1,
   "id": "9ae53139",
   "metadata": {},
   "outputs": [],
   "source": [
    "import pandas as pd\n",
    "import pymysql\n",
    "import time    \n",
    "from datetime import datetime\n",
    "from tqdm.auto import tqdm"
   ]
  },
  {
   "cell_type": "code",
   "execution_count": 2,
   "id": "6207ffd6",
   "metadata": {
    "scrolled": true
   },
   "outputs": [
    {
     "data": {
      "text/html": [
       "<div>\n",
       "<style scoped>\n",
       "    .dataframe tbody tr th:only-of-type {\n",
       "        vertical-align: middle;\n",
       "    }\n",
       "\n",
       "    .dataframe tbody tr th {\n",
       "        vertical-align: top;\n",
       "    }\n",
       "\n",
       "    .dataframe thead th {\n",
       "        text-align: right;\n",
       "    }\n",
       "</style>\n",
       "<table border=\"1\" class=\"dataframe\">\n",
       "  <thead>\n",
       "    <tr style=\"text-align: right;\">\n",
       "      <th></th>\n",
       "      <th>title</th>\n",
       "      <th>originallink</th>\n",
       "      <th>link</th>\n",
       "      <th>description</th>\n",
       "      <th>pubDate</th>\n",
       "      <th>context</th>\n",
       "    </tr>\n",
       "  </thead>\n",
       "  <tbody>\n",
       "    <tr>\n",
       "      <th>0</th>\n",
       "      <td>개미들 '하한가 따먹기'…&lt;b&gt;삼성전자&lt;/b&gt; 대신 '여기' 몰렸다</td>\n",
       "      <td>https://www.hankyung.com/article/202311031162i</td>\n",
       "      <td>https://n.news.naver.com/mnews/article/015/000...</td>\n",
       "      <td>이날 2위를 기록한 &lt;b&gt;삼성전자&lt;/b&gt;(거래대금 7168억원)보다 많았다. 거래량...</td>\n",
       "      <td>Fri, 03 Nov 2023 17:05:00 +0900</td>\n",
       "      <td>코스피·코스닥 1%대 상승…'최장 하한가' 영풍제지 강세 전환\\n\\n코스피, 코스닥...</td>\n",
       "    </tr>\n",
       "    <tr>\n",
       "      <th>1</th>\n",
       "      <td>&amp;quot;&lt;b&gt;삼성전자&lt;/b&gt;, 천안사업장 부지 더 넓힌다&amp;quot;…HBM 투자 속도</td>\n",
       "      <td>http://www.newsis.com/view/?id=NISX20231102_00...</td>\n",
       "      <td>https://n.news.naver.com/mnews/article/003/001...</td>\n",
       "      <td>&lt;b&gt;삼성전자&lt;/b&gt;가 &lt;b&gt;삼성&lt;/b&gt;디스플레이의 천안사업장 내 부지 확보를 위해...</td>\n",
       "      <td>Fri, 03 Nov 2023 07:01:00 +0900</td>\n",
       "      <td>[서울=뉴시스] 황준선 기자 = 삼성전자가 31일 올해 3분기 연결 기준 매출 67...</td>\n",
       "    </tr>\n",
       "    <tr>\n",
       "      <th>2</th>\n",
       "      <td>[게시판] &lt;b&gt;삼성전자&lt;/b&gt;, 부산에서 '오디세이 체험존' 운영</td>\n",
       "      <td>https://www.yna.co.kr/view/AKR2023110302350000...</td>\n",
       "      <td>https://n.news.naver.com/mnews/article/001/001...</td>\n",
       "      <td>▲ &lt;b&gt;삼성전자&lt;/b&gt;는 '2023 리그 오브 레전드(LoL) 국제대회' 토너먼트...</td>\n",
       "      <td>Fri, 03 Nov 2023 08:14:00 +0900</td>\n",
       "      <td>None</td>\n",
       "    </tr>\n",
       "    <tr>\n",
       "      <th>3</th>\n",
       "      <td>&lt;b&gt;삼성전자&lt;/b&gt;, 파리서 ‘2030 부산 엑스포’ 알린다</td>\n",
       "      <td>https://economist.co.kr/article/view/ecn202311...</td>\n",
       "      <td>https://n.news.naver.com/mnews/article/243/000...</td>\n",
       "      <td>&lt;b&gt;삼성전자&lt;/b&gt;가 국제박람회기구(BIE) 총회가 열리는 프랑스 파리에서 203...</td>\n",
       "      <td>Thu, 02 Nov 2023 15:15:00 +0900</td>\n",
       "      <td>삼성전자가 파리 샤를드골 국제공항 광고판을 통해 2023 부산 세계박람회 유치 지원...</td>\n",
       "    </tr>\n",
       "    <tr>\n",
       "      <th>4</th>\n",
       "      <td>&lt;b&gt;삼성전자&lt;/b&gt; 부산서 ‘오디세이 체험존’ 운영</td>\n",
       "      <td>http://news.heraldcorp.com/view.php?ud=2023110...</td>\n",
       "      <td>https://n.news.naver.com/mnews/article/016/000...</td>\n",
       "      <td>&lt;b&gt;삼성전자&lt;/b&gt;가 ‘2023 리그 오브 레전드 국제대회’ 토너먼트 스테이지에 ...</td>\n",
       "      <td>Fri, 03 Nov 2023 11:17:00 +0900</td>\n",
       "      <td>방문객이 롯데백화점 부산 본점에 위치한 ‘오디세이 체험존’에서 삼성전자 게이밍 모니...</td>\n",
       "    </tr>\n",
       "    <tr>\n",
       "      <th>...</th>\n",
       "      <td>...</td>\n",
       "      <td>...</td>\n",
       "      <td>...</td>\n",
       "      <td>...</td>\n",
       "      <td>...</td>\n",
       "      <td>...</td>\n",
       "    </tr>\n",
       "    <tr>\n",
       "      <th>95</th>\n",
       "      <td>&lt;b&gt;삼성전자&lt;/b&gt;, 천안사업장 HBM 생산능력 확대</td>\n",
       "      <td>http://www.newsprime.co.kr/news/article.html?n...</td>\n",
       "      <td>http://www.newsprime.co.kr/news/article.html?n...</td>\n",
       "      <td>&lt;b&gt;삼성전자&lt;/b&gt;(005930)가 천안사업장 부지를 넓혀 차세대 고대역폭메모리(...</td>\n",
       "      <td>Fri, 03 Nov 2023 16:10:00 +0900</td>\n",
       "      <td>[프라임경제] 삼성전자(005930)가 천안사업장 부지를 넓혀 차세대 고대역폭메모리...</td>\n",
       "    </tr>\n",
       "    <tr>\n",
       "      <th>96</th>\n",
       "      <td>&lt;b&gt;삼성전자&lt;/b&gt;, 부산에서 '오디세이 체험존' 운영</td>\n",
       "      <td>http://www.wsobi.com/news/articleView.html?idx...</td>\n",
       "      <td>http://www.wsobi.com/news/articleView.html?idx...</td>\n",
       "      <td>&lt;b&gt;삼성전자&lt;/b&gt;가 '2023 리그 오브 레전드 국제대회' 토너먼트 스테이지에 ...</td>\n",
       "      <td>Fri, 03 Nov 2023 10:26:00 +0900</td>\n",
       "      <td>[여성소비자신문 신예은 기자] 삼성전자가 ‘2023 리그 오브 레전드 국제대회’ 토...</td>\n",
       "    </tr>\n",
       "    <tr>\n",
       "      <th>97</th>\n",
       "      <td>&amp;quot;막판까지 총력전&amp;quot;…&lt;b&gt;삼성전자&lt;/b&gt;, 파리 입국 길목서 '부...</td>\n",
       "      <td>http://www.inews24.com/view/1649348</td>\n",
       "      <td>https://n.news.naver.com/mnews/article/031/000...</td>\n",
       "      <td>&lt;b&gt;삼성전자&lt;/b&gt;가 오는 28일(현지시간) 국제박람회기구(BIE) 총회가 열리는...</td>\n",
       "      <td>Thu, 02 Nov 2023 10:48:00 +0900</td>\n",
       "      <td>[아이뉴스24 권용삼 기자] 삼성전자가 오는 28일(현지시간) 국제박람회기구(BIE...</td>\n",
       "    </tr>\n",
       "    <tr>\n",
       "      <th>98</th>\n",
       "      <td>&lt;b&gt;삼성전자&lt;/b&gt; 창립 54주년, '위기 돌파' 경영 메시지 나올까</td>\n",
       "      <td>http://www.newsis.com/view/?id=NISX20231031_00...</td>\n",
       "      <td>https://n.news.naver.com/mnews/article/003/001...</td>\n",
       "      <td>&lt;b&gt;삼성전자&lt;/b&gt;와 &lt;b&gt;삼성&lt;/b&gt;디스플레이, &lt;b&gt;삼성&lt;/b&gt;전기 등 &lt;b&gt;...</td>\n",
       "      <td>Wed, 01 Nov 2023 07:01:00 +0900</td>\n",
       "      <td>소설가 윤고은 \"주인공 작품 불태우는 나는 '못된 작가'\"[신재우의 작가만세]</td>\n",
       "    </tr>\n",
       "    <tr>\n",
       "      <th>99</th>\n",
       "      <td>&lt;b&gt;삼성전자&lt;/b&gt;, 부산에서 '오디세이 체험존' 운영</td>\n",
       "      <td>http://www.iminju.net/news/articleView.html?id...</td>\n",
       "      <td>http://www.iminju.net/news/articleView.html?id...</td>\n",
       "      <td>민주신문=이한호 기자｜&lt;b&gt;삼성전자&lt;/b&gt;가 '2023 리그 오브 레전드(Leagu...</td>\n",
       "      <td>Fri, 03 Nov 2023 10:26:00 +0900</td>\n",
       "      <td>방문객들이 롯데백화점 부산 본점에 위치한 '오디세이 체험존'에서 삼성전자 게이밍 모...</td>\n",
       "    </tr>\n",
       "  </tbody>\n",
       "</table>\n",
       "<p>100 rows × 6 columns</p>\n",
       "</div>"
      ],
      "text/plain": [
       "                                                title  \\\n",
       "0               개미들 '하한가 따먹기'…<b>삼성전자</b> 대신 '여기' 몰렸다   \n",
       "1   &quot;<b>삼성전자</b>, 천안사업장 부지 더 넓힌다&quot;…HBM 투자 속도   \n",
       "2               [게시판] <b>삼성전자</b>, 부산에서 '오디세이 체험존' 운영   \n",
       "3                  <b>삼성전자</b>, 파리서 ‘2030 부산 엑스포’ 알린다   \n",
       "4                       <b>삼성전자</b> 부산서 ‘오디세이 체험존’ 운영   \n",
       "..                                                ...   \n",
       "95                     <b>삼성전자</b>, 천안사업장 HBM 생산능력 확대   \n",
       "96                    <b>삼성전자</b>, 부산에서 '오디세이 체험존' 운영   \n",
       "97  &quot;막판까지 총력전&quot;…<b>삼성전자</b>, 파리 입국 길목서 '부...   \n",
       "98            <b>삼성전자</b> 창립 54주년, '위기 돌파' 경영 메시지 나올까   \n",
       "99                    <b>삼성전자</b>, 부산에서 '오디세이 체험존' 운영   \n",
       "\n",
       "                                         originallink  \\\n",
       "0      https://www.hankyung.com/article/202311031162i   \n",
       "1   http://www.newsis.com/view/?id=NISX20231102_00...   \n",
       "2   https://www.yna.co.kr/view/AKR2023110302350000...   \n",
       "3   https://economist.co.kr/article/view/ecn202311...   \n",
       "4   http://news.heraldcorp.com/view.php?ud=2023110...   \n",
       "..                                                ...   \n",
       "95  http://www.newsprime.co.kr/news/article.html?n...   \n",
       "96  http://www.wsobi.com/news/articleView.html?idx...   \n",
       "97                http://www.inews24.com/view/1649348   \n",
       "98  http://www.newsis.com/view/?id=NISX20231031_00...   \n",
       "99  http://www.iminju.net/news/articleView.html?id...   \n",
       "\n",
       "                                                 link  \\\n",
       "0   https://n.news.naver.com/mnews/article/015/000...   \n",
       "1   https://n.news.naver.com/mnews/article/003/001...   \n",
       "2   https://n.news.naver.com/mnews/article/001/001...   \n",
       "3   https://n.news.naver.com/mnews/article/243/000...   \n",
       "4   https://n.news.naver.com/mnews/article/016/000...   \n",
       "..                                                ...   \n",
       "95  http://www.newsprime.co.kr/news/article.html?n...   \n",
       "96  http://www.wsobi.com/news/articleView.html?idx...   \n",
       "97  https://n.news.naver.com/mnews/article/031/000...   \n",
       "98  https://n.news.naver.com/mnews/article/003/001...   \n",
       "99  http://www.iminju.net/news/articleView.html?id...   \n",
       "\n",
       "                                          description  \\\n",
       "0   이날 2위를 기록한 <b>삼성전자</b>(거래대금 7168억원)보다 많았다. 거래량...   \n",
       "1   <b>삼성전자</b>가 <b>삼성</b>디스플레이의 천안사업장 내 부지 확보를 위해...   \n",
       "2   ▲ <b>삼성전자</b>는 '2023 리그 오브 레전드(LoL) 국제대회' 토너먼트...   \n",
       "3   <b>삼성전자</b>가 국제박람회기구(BIE) 총회가 열리는 프랑스 파리에서 203...   \n",
       "4   <b>삼성전자</b>가 ‘2023 리그 오브 레전드 국제대회’ 토너먼트 스테이지에 ...   \n",
       "..                                                ...   \n",
       "95  <b>삼성전자</b>(005930)가 천안사업장 부지를 넓혀 차세대 고대역폭메모리(...   \n",
       "96  <b>삼성전자</b>가 '2023 리그 오브 레전드 국제대회' 토너먼트 스테이지에 ...   \n",
       "97  <b>삼성전자</b>가 오는 28일(현지시간) 국제박람회기구(BIE) 총회가 열리는...   \n",
       "98  <b>삼성전자</b>와 <b>삼성</b>디스플레이, <b>삼성</b>전기 등 <b>...   \n",
       "99  민주신문=이한호 기자｜<b>삼성전자</b>가 '2023 리그 오브 레전드(Leagu...   \n",
       "\n",
       "                            pubDate  \\\n",
       "0   Fri, 03 Nov 2023 17:05:00 +0900   \n",
       "1   Fri, 03 Nov 2023 07:01:00 +0900   \n",
       "2   Fri, 03 Nov 2023 08:14:00 +0900   \n",
       "3   Thu, 02 Nov 2023 15:15:00 +0900   \n",
       "4   Fri, 03 Nov 2023 11:17:00 +0900   \n",
       "..                              ...   \n",
       "95  Fri, 03 Nov 2023 16:10:00 +0900   \n",
       "96  Fri, 03 Nov 2023 10:26:00 +0900   \n",
       "97  Thu, 02 Nov 2023 10:48:00 +0900   \n",
       "98  Wed, 01 Nov 2023 07:01:00 +0900   \n",
       "99  Fri, 03 Nov 2023 10:26:00 +0900   \n",
       "\n",
       "                                              context  \n",
       "0   코스피·코스닥 1%대 상승…'최장 하한가' 영풍제지 강세 전환\\n\\n코스피, 코스닥...  \n",
       "1   [서울=뉴시스] 황준선 기자 = 삼성전자가 31일 올해 3분기 연결 기준 매출 67...  \n",
       "2                                                None  \n",
       "3   삼성전자가 파리 샤를드골 국제공항 광고판을 통해 2023 부산 세계박람회 유치 지원...  \n",
       "4   방문객이 롯데백화점 부산 본점에 위치한 ‘오디세이 체험존’에서 삼성전자 게이밍 모니...  \n",
       "..                                                ...  \n",
       "95  [프라임경제] 삼성전자(005930)가 천안사업장 부지를 넓혀 차세대 고대역폭메모리...  \n",
       "96  [여성소비자신문 신예은 기자] 삼성전자가 ‘2023 리그 오브 레전드 국제대회’ 토...  \n",
       "97  [아이뉴스24 권용삼 기자] 삼성전자가 오는 28일(현지시간) 국제박람회기구(BIE...  \n",
       "98        소설가 윤고은 \"주인공 작품 불태우는 나는 '못된 작가'\"[신재우의 작가만세]  \n",
       "99  방문객들이 롯데백화점 부산 본점에 위치한 '오디세이 체험존'에서 삼성전자 게이밍 모...  \n",
       "\n",
       "[100 rows x 6 columns]"
      ]
     },
     "execution_count": 2,
     "metadata": {},
     "output_type": "execute_result"
    }
   ],
   "source": [
    "news_df = pd.read_csv('./삼성전자_100.csv')\n",
    "news_df = news_df.where(pd.notnull(news_df), None) # for pymysql NaN change to None\\j\n",
    "news_df"
   ]
  },
  {
   "cell_type": "code",
   "execution_count": 3,
   "id": "083e2550",
   "metadata": {},
   "outputs": [],
   "source": [
    "search_word = \"삼성전자\""
   ]
  },
  {
   "cell_type": "code",
   "execution_count": 4,
   "id": "8869b935",
   "metadata": {},
   "outputs": [
    {
     "data": {
      "text/plain": [
       "<pymysql.cursors.Cursor at 0x16c8b0c5c10>"
      ]
     },
     "execution_count": 4,
     "metadata": {},
     "output_type": "execute_result"
    }
   ],
   "source": [
    "conn = pymysql.connect(host='127.0.0.1', user='root', password='root',\n",
    "                       db='finance', charset='utf8')\n",
    "cursor = conn.cursor()\n",
    "cursor"
   ]
  },
  {
   "cell_type": "code",
   "execution_count": 5,
   "id": "f7a9e14d",
   "metadata": {},
   "outputs": [],
   "source": [
    "# INSERT 문 query 작성\n",
    "sql = \"INSERT INTO news_crawl (search_word, title, originallink, link, description, pub_date, context)\"\n",
    "sql += \" VALUES (%s, %s, %s, %s, %s, %s, %s)\""
   ]
  },
  {
   "cell_type": "code",
   "execution_count": 6,
   "id": "f0cfbd18",
   "metadata": {},
   "outputs": [],
   "source": [
    "for row in news_df.itertuples():\n",
    "    date_object = datetime.strptime(row.pubDate, '%a, %d %b %Y %H:%M:%S %z')\n",
    "    cursor.execute(sql, (search_word, row.title, row.originallink, row.link, row.description, date_object, row.context))"
   ]
  },
  {
   "cell_type": "code",
   "execution_count": 7,
   "id": "f8c91b39",
   "metadata": {},
   "outputs": [],
   "source": [
    "conn.commit()"
   ]
  },
  {
   "cell_type": "code",
   "execution_count": 8,
   "id": "4b30863e",
   "metadata": {},
   "outputs": [
    {
     "data": {
      "text/plain": [
       "100"
      ]
     },
     "execution_count": 8,
     "metadata": {},
     "output_type": "execute_result"
    }
   ],
   "source": [
    "# conn = pymysql.connect(host='127.0.0.1', user='root', password='root',\n",
    "#                        db='finance', charset='utf8')\n",
    "# cursor = conn.cursor()\n",
    "\n",
    "query = \"select * from news_crawl\"\n",
    "cursor.execute(query)"
   ]
  },
  {
   "cell_type": "code",
   "execution_count": 20,
   "id": "d723a48e",
   "metadata": {},
   "outputs": [],
   "source": [
    "conn.close()"
   ]
  }
 ],
 "metadata": {
  "kernelspec": {
   "display_name": "Python 3 (ipykernel)",
   "language": "python",
   "name": "python3"
  },
  "language_info": {
   "codemirror_mode": {
    "name": "ipython",
    "version": 3
   },
   "file_extension": ".py",
   "mimetype": "text/x-python",
   "name": "python",
   "nbconvert_exporter": "python",
   "pygments_lexer": "ipython3",
   "version": "3.9.18"
  },
  "toc": {
   "base_numbering": 1,
   "nav_menu": {},
   "number_sections": true,
   "sideBar": true,
   "skip_h1_title": false,
   "title_cell": "Table of Contents",
   "title_sidebar": "Contents",
   "toc_cell": false,
   "toc_position": {},
   "toc_section_display": true,
   "toc_window_display": false
  }
 },
 "nbformat": 4,
 "nbformat_minor": 5
}
